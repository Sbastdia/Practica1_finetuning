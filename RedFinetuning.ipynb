{
  "nbformat": 4,
  "nbformat_minor": 0,
  "metadata": {
    "colab": {
      "provenance": [],
      "gpuType": "T4"
    },
    "kernelspec": {
      "name": "python3",
      "display_name": "Python 3"
    },
    "language_info": {
      "name": "python"
    },
    "accelerator": "GPU"
  },
  "cells": [
    {
      "cell_type": "code",
      "source": [
        "from google.colab import drive\n",
        "drive.mount('/content/drive')"
      ],
      "metadata": {
        "colab": {
          "base_uri": "https://localhost:8080/"
        },
        "id": "-lbtTk6F2L1W",
        "outputId": "e68e348f-de13-44e0-c5d0-71e18b04a652"
      },
      "execution_count": 214,
      "outputs": [
        {
          "output_type": "stream",
          "name": "stdout",
          "text": [
            "Drive already mounted at /content/drive; to attempt to forcibly remount, call drive.mount(\"/content/drive\", force_remount=True).\n"
          ]
        }
      ]
    },
    {
      "cell_type": "code",
      "execution_count": 215,
      "metadata": {
        "colab": {
          "base_uri": "https://localhost:8080/"
        },
        "id": "Ir6xpF0v17lq",
        "outputId": "4ef75222-137d-49e9-ab19-6e31ad1755ca"
      },
      "outputs": [
        {
          "output_type": "stream",
          "name": "stdout",
          "text": [
            "Archive:  /content/drive/MyDrive/Datos/Practica1/archive-intel.zip\n",
            "replace archive-intel/seg_test/seg_test/buildings/20057.jpg? [y]es, [n]o, [A]ll, [N]one, [r]ename: "
          ]
        }
      ],
      "source": [
        "#Descomprimimos el archivo en el que tenemos todos los datos necesarios para la práctica\n",
        "!unzip /content/drive/MyDrive/Datos/Practica1/archive-intel.zip"
      ]
    },
    {
      "cell_type": "code",
      "source": [
        "# Preparación de las imagenes en crudo en su representación en tensor\n",
        "from keras.preprocessing.image import ImageDataGenerator\n",
        "#Con este generador, podremos recorrer los datos en lotes, y en cada iteración, el generador aplicará\n",
        "#las técnicas de aumento de datos especificadas para generar imágenes aumentadas"
      ],
      "metadata": {
        "id": "3IOdNMtj2Qq1"
      },
      "execution_count": 216,
      "outputs": []
    },
    {
      "cell_type": "code",
      "source": [
        "#Para normalizar los valores de los píxeles en las imágenes\n",
        "train_datagen = ImageDataGenerator(rescale=1./255)\n",
        "test_datagen = ImageDataGenerator(rescale=1./255)"
      ],
      "metadata": {
        "id": "aVoRuu9c2aYW"
      },
      "execution_count": 217,
      "outputs": []
    },
    {
      "cell_type": "code",
      "source": [
        "train_generator = train_datagen.flow_from_directory(\n",
        "    '/content/archive-intel/seg_train/seg_train', #Ruta del directorio donde se encuentran las imágenes de entrenamiento\n",
        "    target_size=(150, 150), #Las imágenes se redimensionarán a una altura y ancho de 150 píxeles\n",
        "    batch_size=32, #Número de imágenes en cada lote que se utilizará para el entrenamiento\n",
        "    class_mode='categorical') #Tarea de clasificación categórica (multiclase)"
      ],
      "metadata": {
        "colab": {
          "base_uri": "https://localhost:8080/"
        },
        "id": "XTUT6dxl21rs",
        "outputId": "de093507-40e8-4fa2-a1a4-47fb328ec1aa"
      },
      "execution_count": 218,
      "outputs": [
        {
          "output_type": "stream",
          "name": "stdout",
          "text": [
            "Found 14034 images belonging to 6 classes.\n"
          ]
        }
      ]
    },
    {
      "cell_type": "code",
      "source": [
        "validation_generator = test_datagen.flow_from_directory(\n",
        "    '/content/archive-intel/seg_test/seg_test', #Ruta del directorio donde se encuentran las imágenes de prueba o validación\n",
        "    target_size=(150, 150), #Las imágenes se redimensionarán a una altura y ancho de 150 píxeles\n",
        "    batch_size=32, #Número de imágenes en cada lote que se utilizará para la evaluación\n",
        "    class_mode='categorical') #Tarea de clasificación categórica (multiclase)"
      ],
      "metadata": {
        "colab": {
          "base_uri": "https://localhost:8080/"
        },
        "id": "Rik5sPpu239F",
        "outputId": "6791348b-5183-427d-b460-428b569ae516"
      },
      "execution_count": 219,
      "outputs": [
        {
          "output_type": "stream",
          "name": "stdout",
          "text": [
            "Found 3000 images belonging to 6 classes.\n"
          ]
        }
      ]
    },
    {
      "cell_type": "code",
      "source": [
        "# Veamos el contenido de uno de los generators e imprimimos la forma (shape) del lote de datos y el lote de etiquetas\n",
        "for data_batch, labels_batch in train_generator:\n",
        "    print('data batch shape:', data_batch.shape)\n",
        "    print('labels batch shape:', labels_batch.shape)\n",
        "    break"
      ],
      "metadata": {
        "colab": {
          "base_uri": "https://localhost:8080/"
        },
        "id": "DRUYX13g279b",
        "outputId": "0746d777-3a2a-4ea7-9e24-b561297f2437"
      },
      "execution_count": 220,
      "outputs": [
        {
          "output_type": "stream",
          "name": "stdout",
          "text": [
            "data batch shape: (32, 150, 150, 3)\n",
            "labels batch shape: (32, 6)\n"
          ]
        }
      ]
    },
    {
      "cell_type": "code",
      "source": [
        "#Arquitectura VGG19 como base convolucional, con 19 capas\n",
        "from keras.applications import VGG19\n",
        "#Inicializamos el modelo con los pesos preentrenados en el conjunto de datos de ImageNet\n",
        "#Omitimos la capa densa superior (capa de clasificación) del modelo original\n",
        "#Especificamos el tamaño de la entrada de las imágenes, 150x150 píxeles y 3 canales (RGB)\n",
        "conv_base = VGG19(weights='imagenet', include_top=False, input_shape=(150, 150, 3))"
      ],
      "metadata": {
        "id": "LokFGjZM2-cV"
      },
      "execution_count": 221,
      "outputs": []
    },
    {
      "cell_type": "code",
      "source": [
        "#Resumen de la arquitectura de la base convolucional VGG16\n",
        "conv_base.summary()"
      ],
      "metadata": {
        "colab": {
          "base_uri": "https://localhost:8080/"
        },
        "id": "Wqnqy9xA3IzW",
        "outputId": "f2c138f9-0a7f-4ba2-931e-e0814a7c1d37"
      },
      "execution_count": 222,
      "outputs": [
        {
          "output_type": "stream",
          "name": "stdout",
          "text": [
            "Model: \"vgg19\"\n",
            "_________________________________________________________________\n",
            " Layer (type)                Output Shape              Param #   \n",
            "=================================================================\n",
            " input_13 (InputLayer)       [(None, 150, 150, 3)]     0         \n",
            "                                                                 \n",
            " block1_conv1 (Conv2D)       (None, 150, 150, 64)      1792      \n",
            "                                                                 \n",
            " block1_conv2 (Conv2D)       (None, 150, 150, 64)      36928     \n",
            "                                                                 \n",
            " block1_pool (MaxPooling2D)  (None, 75, 75, 64)        0         \n",
            "                                                                 \n",
            " block2_conv1 (Conv2D)       (None, 75, 75, 128)       73856     \n",
            "                                                                 \n",
            " block2_conv2 (Conv2D)       (None, 75, 75, 128)       147584    \n",
            "                                                                 \n",
            " block2_pool (MaxPooling2D)  (None, 37, 37, 128)       0         \n",
            "                                                                 \n",
            " block3_conv1 (Conv2D)       (None, 37, 37, 256)       295168    \n",
            "                                                                 \n",
            " block3_conv2 (Conv2D)       (None, 37, 37, 256)       590080    \n",
            "                                                                 \n",
            " block3_conv3 (Conv2D)       (None, 37, 37, 256)       590080    \n",
            "                                                                 \n",
            " block3_conv4 (Conv2D)       (None, 37, 37, 256)       590080    \n",
            "                                                                 \n",
            " block3_pool (MaxPooling2D)  (None, 18, 18, 256)       0         \n",
            "                                                                 \n",
            " block4_conv1 (Conv2D)       (None, 18, 18, 512)       1180160   \n",
            "                                                                 \n",
            " block4_conv2 (Conv2D)       (None, 18, 18, 512)       2359808   \n",
            "                                                                 \n",
            " block4_conv3 (Conv2D)       (None, 18, 18, 512)       2359808   \n",
            "                                                                 \n",
            " block4_conv4 (Conv2D)       (None, 18, 18, 512)       2359808   \n",
            "                                                                 \n",
            " block4_pool (MaxPooling2D)  (None, 9, 9, 512)         0         \n",
            "                                                                 \n",
            " block5_conv1 (Conv2D)       (None, 9, 9, 512)         2359808   \n",
            "                                                                 \n",
            " block5_conv2 (Conv2D)       (None, 9, 9, 512)         2359808   \n",
            "                                                                 \n",
            " block5_conv3 (Conv2D)       (None, 9, 9, 512)         2359808   \n",
            "                                                                 \n",
            " block5_conv4 (Conv2D)       (None, 9, 9, 512)         2359808   \n",
            "                                                                 \n",
            " block5_pool (MaxPooling2D)  (None, 4, 4, 512)         0         \n",
            "                                                                 \n",
            "=================================================================\n",
            "Total params: 20024384 (76.39 MB)\n",
            "Trainable params: 20024384 (76.39 MB)\n",
            "Non-trainable params: 0 (0.00 Byte)\n",
            "_________________________________________________________________\n"
          ]
        }
      ]
    },
    {
      "cell_type": "code",
      "source": [
        "#Este enfoque, conocido como \"fine-tuning\", permite congelar algunas capas y permitir que otras se ajusten durante el entrenamiento\n",
        "\n",
        "conv_base.trainable = True #Para permitir el ajuste fino en la base convolucional\n",
        "#Solo se entrenan las últimas 4 capas convolucionales mientras se congelan las demás capas\n",
        "for layer in conv_base.layers:\n",
        "    if layer.name == 'block5_conv1':\n",
        "        layer.trainable = True\n",
        "    if layer.name == 'block5_conv2':\n",
        "        layer.trainable = True\n",
        "    if layer.name == 'block5_conv3':\n",
        "        layer.trainable = True\n",
        "    if layer.name == 'block5_conv4':\n",
        "        layer.trainable = True\n",
        "    else:\n",
        "        layer.trainable = False"
      ],
      "metadata": {
        "id": "-12Dp0MR3M94"
      },
      "execution_count": 223,
      "outputs": []
    },
    {
      "cell_type": "code",
      "source": [
        "from keras import models\n",
        "from keras import layers\n",
        "\n",
        "model = models.Sequential()\n",
        "model.add(conv_base) #Agregamos la base convolucional VGG19 al modelo\n",
        "model.add(layers.Flatten()) #Aplanamos para convertir la salida de la base convolucional en un vector unidimensional, preparándola para las capas densas\n",
        "#model.add(layers.Dense(256, activation='relu')) #Agregamos una capa densa con 64 neuronas y función de activación ReLU\n",
        "#model.add(layers.Dropout(0.3)) #Añadimos Dropout() para evitar overfitting\n",
        "model.add(layers.Dense(64, activation='relu')) #Otra capa densa con 256 neuronas y activación ReLU\n",
        "model.add(layers.Dense(6, activation='softmax')) #Capa de salida con 6 neuronas (tenemos 6 clases), y función de activación softmax porque es clasificación multiclase"
      ],
      "metadata": {
        "id": "21UcydWE3QOF"
      },
      "execution_count": 224,
      "outputs": []
    },
    {
      "cell_type": "code",
      "source": [
        "#Resumen del modelo\n",
        "model.summary()"
      ],
      "metadata": {
        "colab": {
          "base_uri": "https://localhost:8080/"
        },
        "id": "U8LevhnM3V4b",
        "outputId": "2ca024a7-76fb-49e0-d34a-f2700e2efc50"
      },
      "execution_count": 225,
      "outputs": [
        {
          "output_type": "stream",
          "name": "stdout",
          "text": [
            "Model: \"sequential_12\"\n",
            "_________________________________________________________________\n",
            " Layer (type)                Output Shape              Param #   \n",
            "=================================================================\n",
            " vgg19 (Functional)          (None, 4, 4, 512)         20024384  \n",
            "                                                                 \n",
            " flatten_12 (Flatten)        (None, 8192)              0         \n",
            "                                                                 \n",
            " dense_33 (Dense)            (None, 64)                524352    \n",
            "                                                                 \n",
            " dense_34 (Dense)            (None, 6)                 390       \n",
            "                                                                 \n",
            "=================================================================\n",
            "Total params: 20549126 (78.39 MB)\n",
            "Trainable params: 2884550 (11.00 MB)\n",
            "Non-trainable params: 17664576 (67.39 MB)\n",
            "_________________________________________________________________\n"
          ]
        }
      ]
    },
    {
      "cell_type": "code",
      "source": [
        "# Configuración del modelo para entrenamiento\n",
        "from tensorflow.keras import optimizers\n",
        "from tensorflow.keras.callbacks import LearningRateScheduler\n",
        "\n",
        "#La entropía cruzada categórica ('categorical_crossentropy') es comúnmente utilizada en este tipo de problemas (multiclase)\n",
        "#Utilizamos como optimizador 'RMSprop' con tasa de aprendizaje de 0.001\n",
        "#Monitoreamos la precisión durante el entrenamiento\n",
        "#model.compile(loss='categorical_crossentropy', optimizer=optimizers.RMSprop(learning_rate=1e-2), metrics=['acc'])\n",
        "# Define una función de decaimiento para el learning rate\n",
        "def learning_rate_scheduler(epoch, lr):\n",
        "    return lr * 0.95  # Reduce el learning rate en un 5% en cada época\n",
        "\n",
        "# Compila el modelo con el optimizador Adam y un learning rate inicial\n",
        "initial_learning_rate = 0.01\n",
        "optimizer = optimizers.Adam(learning_rate=initial_learning_rate)\n",
        "model.compile(optimizer=optimizer, loss='categorical_crossentropy', metrics=['acc'])\n",
        "\n",
        "# Define el callback para el learning rate decay\n",
        "lr_decay_callback = LearningRateScheduler(learning_rate_scheduler, verbose=1)\n"
      ],
      "metadata": {
        "id": "_aoAQB5L3YTf"
      },
      "execution_count": 226,
      "outputs": []
    },
    {
      "cell_type": "code",
      "source": [
        "# Vamos a entrenar la red neuronal con el generator que configuramos más arriba\n",
        "history = model.fit_generator(train_generator, steps_per_epoch=438, epochs=10, validation_data=validation_generator, validation_steps=93, callbacks=[lr_decay_callback])"
      ],
      "metadata": {
        "colab": {
          "base_uri": "https://localhost:8080/"
        },
        "id": "4Gqf-yXZ3ePe",
        "outputId": "02682525-cde5-4532-cb39-61e3517ad2d1"
      },
      "execution_count": 227,
      "outputs": [
        {
          "output_type": "stream",
          "name": "stdout",
          "text": [
            "\n",
            "Epoch 1: LearningRateScheduler setting learning rate to 0.009499999787658453.\n",
            "Epoch 1/10\n"
          ]
        },
        {
          "output_type": "stream",
          "name": "stderr",
          "text": [
            "<ipython-input-227-d17b05769ad2>:2: UserWarning: `Model.fit_generator` is deprecated and will be removed in a future version. Please use `Model.fit`, which supports generators.\n",
            "  history = model.fit_generator(train_generator, steps_per_epoch=438, epochs=10, validation_data=validation_generator, validation_steps=93, callbacks=[lr_decay_callback])\n"
          ]
        },
        {
          "output_type": "stream",
          "name": "stdout",
          "text": [
            "438/438 [==============================] - 53s 117ms/step - loss: 1.1790 - acc: 0.7742 - val_loss: 0.4829 - val_acc: 0.8323 - lr: 0.0095\n",
            "\n",
            "Epoch 2: LearningRateScheduler setting learning rate to 0.009024999709799886.\n",
            "Epoch 2/10\n",
            "438/438 [==============================] - 48s 110ms/step - loss: 0.4270 - acc: 0.8512 - val_loss: 0.4481 - val_acc: 0.8474 - lr: 0.0090\n",
            "\n",
            "Epoch 3: LearningRateScheduler setting learning rate to 0.008573750033974648.\n",
            "Epoch 3/10\n",
            "438/438 [==============================] - 47s 107ms/step - loss: 0.3750 - acc: 0.8687 - val_loss: 0.4239 - val_acc: 0.8528 - lr: 0.0086\n",
            "\n",
            "Epoch 4: LearningRateScheduler setting learning rate to 0.008145062532275914.\n",
            "Epoch 4/10\n",
            "438/438 [==============================] - 48s 109ms/step - loss: 0.3260 - acc: 0.8876 - val_loss: 0.4642 - val_acc: 0.8579 - lr: 0.0081\n",
            "\n",
            "Epoch 5: LearningRateScheduler setting learning rate to 0.0077378091402351854.\n",
            "Epoch 5/10\n",
            "438/438 [==============================] - 47s 108ms/step - loss: 0.3117 - acc: 0.8907 - val_loss: 0.4295 - val_acc: 0.8535 - lr: 0.0077\n",
            "\n",
            "Epoch 6: LearningRateScheduler setting learning rate to 0.007350918860174715.\n",
            "Epoch 6/10\n",
            "438/438 [==============================] - 48s 110ms/step - loss: 0.2975 - acc: 0.8960 - val_loss: 0.4210 - val_acc: 0.8606 - lr: 0.0074\n",
            "\n",
            "Epoch 7: LearningRateScheduler setting learning rate to 0.006983372895047068.\n",
            "Epoch 7/10\n",
            "438/438 [==============================] - 48s 110ms/step - loss: 0.2591 - acc: 0.9095 - val_loss: 0.4161 - val_acc: 0.8626 - lr: 0.0070\n",
            "\n",
            "Epoch 8: LearningRateScheduler setting learning rate to 0.006634204206056892.\n",
            "Epoch 8/10\n",
            "438/438 [==============================] - 48s 110ms/step - loss: 0.2354 - acc: 0.9183 - val_loss: 0.5004 - val_acc: 0.8595 - lr: 0.0066\n",
            "\n",
            "Epoch 9: LearningRateScheduler setting learning rate to 0.006302493973635137.\n",
            "Epoch 9/10\n",
            "438/438 [==============================] - 48s 110ms/step - loss: 0.2227 - acc: 0.9260 - val_loss: 0.4447 - val_acc: 0.8626 - lr: 0.0063\n",
            "\n",
            "Epoch 10: LearningRateScheduler setting learning rate to 0.005987369385547936.\n",
            "Epoch 10/10\n",
            "438/438 [==============================] - 50s 113ms/step - loss: 0.1930 - acc: 0.9337 - val_loss: 0.5010 - val_acc: 0.8757 - lr: 0.0060\n"
          ]
        }
      ]
    },
    {
      "cell_type": "markdown",
      "source": [
        "# Vamos a ver las graficas de entrenamiento"
      ],
      "metadata": {
        "id": "SsT1xrb738T-"
      }
    },
    {
      "cell_type": "code",
      "source": [
        "history_dict = history.history"
      ],
      "metadata": {
        "id": "6C1YY4e83ic4"
      },
      "execution_count": 228,
      "outputs": []
    },
    {
      "cell_type": "code",
      "source": [
        "#Para obtener las claves disponibles en este diccionario\n",
        "history_dict.keys()"
      ],
      "metadata": {
        "id": "6_rX7lRu3_r9",
        "colab": {
          "base_uri": "https://localhost:8080/"
        },
        "outputId": "bd95d121-320d-48c4-ae25-27099583799e"
      },
      "execution_count": 229,
      "outputs": [
        {
          "output_type": "execute_result",
          "data": {
            "text/plain": [
              "dict_keys(['loss', 'acc', 'val_loss', 'val_acc', 'lr'])"
            ]
          },
          "metadata": {},
          "execution_count": 229
        }
      ]
    },
    {
      "cell_type": "code",
      "source": [
        "#Gráfica de la precisión del modelo\n",
        "import matplotlib.pyplot as plt\n",
        "\n",
        "plt.plot(history.history['acc'])\n",
        "plt.plot(history.history['val_acc'])\n",
        "plt.title('model accuracy')\n",
        "plt.ylabel('accuracy') #Eje y (accuracy): Representa la precisión del modelo\n",
        "plt.xlabel('epoch') #Eje x (epoch): Representa las épocas del entrenamiento\n",
        "plt.legend(['train', 'val'], loc='upper left')\n",
        "plt.show()"
      ],
      "metadata": {
        "id": "rHjLIoIv3_oO",
        "colab": {
          "base_uri": "https://localhost:8080/",
          "height": 472
        },
        "outputId": "c2af89c3-65f8-4099-ed6d-393795f64d27"
      },
      "execution_count": 230,
      "outputs": [
        {
          "output_type": "display_data",
          "data": {
            "text/plain": [
              "<Figure size 640x480 with 1 Axes>"
            ],
            "image/png": "[encoded data removed]"
          },
          "metadata": {}
        }
      ]
    },
    {
      "cell_type": "code",
      "source": [
        "#Gráfica de la pérdida del modelo\n",
        "plt.plot(history.history['loss'])\n",
        "plt.plot(history.history['val_loss'])\n",
        "plt.title('model loss')\n",
        "plt.ylabel('loss') #Eje y (loss): Representa la pérdida del modelo\n",
        "plt.xlabel('epoch') #Eje x (epoch): Representa las épocas del entrenamiento\n",
        "plt.legend(['train', 'val'], loc='upper left')\n",
        "plt.show()"
      ],
      "metadata": {
        "id": "4Oj6ReA33_e9",
        "colab": {
          "base_uri": "https://localhost:8080/",
          "height": 472
        },
        "outputId": "6e78e988-208c-4fcd-dff3-6d2ec3526c50"
      },
      "execution_count": 231,
      "outputs": [
        {
          "output_type": "display_data",
          "data": {
            "text/plain": [
              "<Figure size 640x480 with 1 Axes>"
            ],
            "image/png": "[encoded data removed]"
          },
          "metadata": {}
        }
      ]
    },
    {
      "cell_type": "code",
      "source": [
        "#Para evaluar el rendimiento del modelo en un conjunto de datos que no se ha visto durante el entrenamiento\n",
        "test_generator = test_datagen.flow_from_directory(\n",
        "    '/content/archive-intel/seg_test/seg_test', #Ruta del directorio donde se encuentran las imágenes de prueba\n",
        "    target_size=(150, 150), #Las imágenes se redimensionarán a una altura y ancho de 150 píxeles\n",
        "    batch_size=32, #Número de imágenes en cada lote que se utilizará para la evaluación\n",
        "    class_mode='categorical') #Tarea de clasificación categórica (multiclase)"
      ],
      "metadata": {
        "id": "zsgHAK3r4JQy",
        "colab": {
          "base_uri": "https://localhost:8080/"
        },
        "outputId": "755a03bb-3f16-4357-8962-b1558241037f"
      },
      "execution_count": 232,
      "outputs": [
        {
          "output_type": "stream",
          "name": "stdout",
          "text": [
            "Found 3000 images belonging to 6 classes.\n"
          ]
        }
      ]
    },
    {
      "cell_type": "code",
      "source": [
        "#Estimar la preción al predecir todo el dataset, es decir, evaluamos el rendimiento final del modelo en datos no vistos\n",
        "scores = model.evaluate(test_generator)\n",
        "print(\"%s: %.2f%%\" % (model.metrics_names[1], scores[1]*100))"
      ],
      "metadata": {
        "id": "3C10qTG34NPO",
        "colab": {
          "base_uri": "https://localhost:8080/"
        },
        "outputId": "84846309-33bc-4cab-f149-1762a62a7ee8"
      },
      "execution_count": 233,
      "outputs": [
        {
          "output_type": "stream",
          "name": "stdout",
          "text": [
            "94/94 [==============================] - 8s 85ms/step - loss: 0.4989 - acc: 0.8760\n",
            "acc: 87.60%\n"
          ]
        }
      ]
    },
    {
      "cell_type": "code",
      "source": [],
      "metadata": {
        "id": "sc2A3AnWxZag"
      },
      "execution_count": 233,
      "outputs": []
    }
  ]
}