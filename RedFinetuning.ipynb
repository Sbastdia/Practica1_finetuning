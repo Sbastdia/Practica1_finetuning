{
  "nbformat": 4,
  "nbformat_minor": 0,
  "metadata": {
    "colab": {
      "provenance": [],
      "gpuType": "T4"
    },
    "kernelspec": {
      "name": "python3",
      "display_name": "Python 3"
    },
    "language_info": {
      "name": "python"
    },
    "accelerator": "GPU"
  },
  "cells": [
    {
      "cell_type": "code",
      "source": [
        "from google.colab import drive\n",
        "drive.mount('/content/drive')"
      ],
      "metadata": {
        "colab": {
          "base_uri": "https://localhost:8080/"
        },
        "id": "-lbtTk6F2L1W",
        "outputId": "c262687d-fc3a-4970-9742-227a1b38cb1f"
      },
      "execution_count": null,
      "outputs": [
        {
          "output_type": "stream",
          "name": "stdout",
          "text": [
            "Drive already mounted at /content/drive; to attempt to forcibly remount, call drive.mount(\"/content/drive\", force_remount=True).\n"
          ]
        }
      ]
    },
    {
      "cell_type": "code",
      "execution_count": null,
      "metadata": {
        "colab": {
          "base_uri": "https://localhost:8080/"
        },
        "id": "Ir6xpF0v17lq",
        "outputId": "0e44f01f-7e36-41d5-826f-d1040cf1afe5"
      },
      "outputs": [
        {
          "output_type": "stream",
          "name": "stdout",
          "text": [
            "Archive:  /content/drive/MyDrive/Datos/Practica1/archive-intel.zip\n",
            "replace archive-intel/seg_test/seg_test/buildings/20057.jpg? [y]es, [n]o, [A]ll, [N]one, [r]ename: "
          ]
        }
      ],
      "source": [
        "#Descomprimimos el archivo en el que tenemos todos los datos necesarios para la práctica\n",
        "!unzip /content/drive/MyDrive/Datos/Practica1/archive-intel.zip"
      ]
    },
    {
      "cell_type": "code",
      "source": [
        "# Preparación de las imagenes en crudo en su representación en tensor\n",
        "from keras.preprocessing.image import ImageDataGenerator\n",
        "#Con este generador, podremos recorrer los datos en lotes, y en cada iteración, el generador aplicará\n",
        "#las técnicas de aumento de datos especificadas para generar imágenes aumentadas"
      ],
      "metadata": {
        "id": "3IOdNMtj2Qq1"
      },
      "execution_count": null,
      "outputs": []
    },
    {
      "cell_type": "code",
      "source": [
        "#Para normalizar los valores de los píxeles en las imágenes\n",
        "train_datagen = ImageDataGenerator(rescale=1./255)\n",
        "test_datagen = ImageDataGenerator(rescale=1./255)"
      ],
      "metadata": {
        "id": "aVoRuu9c2aYW"
      },
      "execution_count": null,
      "outputs": []
    },
    {
      "cell_type": "code",
      "source": [
        "train_generator = train_datagen.flow_from_directory(\n",
        "    '/content/archive-intel/seg_train/seg_train', #Ruta del directorio donde se encuentran las imágenes de entrenamiento\n",
        "    target_size=(200, 200), #Las imágenes se redimensionarán a una altura y ancho de 200 píxeles\n",
        "    batch_size=200, #Número de imágenes en cada lote que se utilizará para el entrenamiento\n",
        "    class_mode='categorical') #Tarea de clasificación categórica (multiclase)"
      ],
      "metadata": {
        "colab": {
          "base_uri": "https://localhost:8080/"
        },
        "id": "XTUT6dxl21rs",
        "outputId": "26c83a3c-797a-4920-d121-55ce1904db24"
      },
      "execution_count": null,
      "outputs": [
        {
          "output_type": "stream",
          "name": "stdout",
          "text": [
            "Found 14034 images belonging to 6 classes.\n"
          ]
        }
      ]
    },
    {
      "cell_type": "code",
      "source": [
        "validation_generator = test_datagen.flow_from_directory(\n",
        "    '/content/archive-intel/seg_test/seg_test', #Ruta del directorio donde se encuentran las imágenes de prueba o validación\n",
        "    target_size=(200, 200), #Las imágenes se redimensionarán a una altura y ancho de 200 píxeles\n",
        "    batch_size=200, #Número de imágenes en cada lote que se utilizará para la evaluación\n",
        "    class_mode='categorical') #Tarea de clasificación categórica (multiclase)"
      ],
      "metadata": {
        "colab": {
          "base_uri": "https://localhost:8080/"
        },
        "id": "Rik5sPpu239F",
        "outputId": "3a192280-38a1-4006-b273-b71bfe7c107b"
      },
      "execution_count": null,
      "outputs": [
        {
          "output_type": "stream",
          "name": "stdout",
          "text": [
            "Found 3000 images belonging to 6 classes.\n"
          ]
        }
      ]
    },
    {
      "cell_type": "code",
      "source": [
        "# Veamos el contenido de uno de los generators e imprimimos la forma (shape) del lote de datos y el lote de etiquetas\n",
        "for data_batch, labels_batch in train_generator:\n",
        "    print('data batch shape:', data_batch.shape)\n",
        "    print('labels batch shape:', labels_batch.shape)\n",
        "    break"
      ],
      "metadata": {
        "colab": {
          "base_uri": "https://localhost:8080/"
        },
        "id": "DRUYX13g279b",
        "outputId": "e9f34694-e683-40ac-ae72-39c43d3736a8"
      },
      "execution_count": null,
      "outputs": [
        {
          "output_type": "stream",
          "name": "stdout",
          "text": [
            "data batch shape: (200, 200, 200, 3)\n",
            "labels batch shape: (200, 6)\n"
          ]
        }
      ]
    },
    {
      "cell_type": "code",
      "source": [
        "#Arquitectura VGG19 como base convolucional, con 19 capas\n",
        "from keras.applications import VGG19\n",
        "#Inicializamos el modelo con los pesos preentrenados en el conjunto de datos de ImageNet\n",
        "#Omitimos la capa densa superior (capa de clasificación) del modelo original\n",
        "#Especificamos el tamaño de la entrada de las imágenes, 200x200 píxeles y 3 canales (RGB)\n",
        "conv_base = VGG19(weights='imagenet', include_top=False, input_shape=(200, 200, 3))"
      ],
      "metadata": {
        "id": "LokFGjZM2-cV"
      },
      "execution_count": null,
      "outputs": []
    },
    {
      "cell_type": "code",
      "source": [
        "#Resumen de la arquitectura de la base convolucional VGG19\n",
        "conv_base.summary()"
      ],
      "metadata": {
        "colab": {
          "base_uri": "https://localhost:8080/"
        },
        "id": "Wqnqy9xA3IzW",
        "outputId": "6af5f5f9-0387-4371-d09a-4d1535e07d49"
      },
      "execution_count": null,
      "outputs": [
        {
          "output_type": "stream",
          "name": "stdout",
          "text": [
            "Model: \"vgg19\"\n",
            "_________________________________________________________________\n",
            " Layer (type)                Output Shape              Param #   \n",
            "=================================================================\n",
            " input_3 (InputLayer)        [(None, 200, 200, 3)]     0         \n",
            "                                                                 \n",
            " block1_conv1 (Conv2D)       (None, 200, 200, 64)      1792      \n",
            "                                                                 \n",
            " block1_conv2 (Conv2D)       (None, 200, 200, 64)      36928     \n",
            "                                                                 \n",
            " block1_pool (MaxPooling2D)  (None, 100, 100, 64)      0         \n",
            "                                                                 \n",
            " block2_conv1 (Conv2D)       (None, 100, 100, 128)     73856     \n",
            "                                                                 \n",
            " block2_conv2 (Conv2D)       (None, 100, 100, 128)     147584    \n",
            "                                                                 \n",
            " block2_pool (MaxPooling2D)  (None, 50, 50, 128)       0         \n",
            "                                                                 \n",
            " block3_conv1 (Conv2D)       (None, 50, 50, 256)       295168    \n",
            "                                                                 \n",
            " block3_conv2 (Conv2D)       (None, 50, 50, 256)       590080    \n",
            "                                                                 \n",
            " block3_conv3 (Conv2D)       (None, 50, 50, 256)       590080    \n",
            "                                                                 \n",
            " block3_conv4 (Conv2D)       (None, 50, 50, 256)       590080    \n",
            "                                                                 \n",
            " block3_pool (MaxPooling2D)  (None, 25, 25, 256)       0         \n",
            "                                                                 \n",
            " block4_conv1 (Conv2D)       (None, 25, 25, 512)       1180160   \n",
            "                                                                 \n",
            " block4_conv2 (Conv2D)       (None, 25, 25, 512)       2359808   \n",
            "                                                                 \n",
            " block4_conv3 (Conv2D)       (None, 25, 25, 512)       2359808   \n",
            "                                                                 \n",
            " block4_conv4 (Conv2D)       (None, 25, 25, 512)       2359808   \n",
            "                                                                 \n",
            " block4_pool (MaxPooling2D)  (None, 12, 12, 512)       0         \n",
            "                                                                 \n",
            " block5_conv1 (Conv2D)       (None, 12, 12, 512)       2359808   \n",
            "                                                                 \n",
            " block5_conv2 (Conv2D)       (None, 12, 12, 512)       2359808   \n",
            "                                                                 \n",
            " block5_conv3 (Conv2D)       (None, 12, 12, 512)       2359808   \n",
            "                                                                 \n",
            " block5_conv4 (Conv2D)       (None, 12, 12, 512)       2359808   \n",
            "                                                                 \n",
            " block5_pool (MaxPooling2D)  (None, 6, 6, 512)         0         \n",
            "                                                                 \n",
            "=================================================================\n",
            "Total params: 20024384 (76.39 MB)\n",
            "Trainable params: 20024384 (76.39 MB)\n",
            "Non-trainable params: 0 (0.00 Byte)\n",
            "_________________________________________________________________\n"
          ]
        }
      ]
    },
    {
      "cell_type": "code",
      "source": [
        "#Este enfoque, conocido como \"fine-tuning\", permite congelar algunas capas y permitir que otras se ajusten durante el entrenamiento\n",
        "\n",
        "conv_base.trainable = True #Para permitir el ajuste fino en la base convolucional\n",
        "#Solo se entrenan las últimas 4 capas convolucionales mientras se congelan las demás capas\n",
        "for layer in conv_base.layers:\n",
        "    if layer.name == 'block5_conv1':\n",
        "        layer.trainable = True\n",
        "    if layer.name == 'block5_conv2':\n",
        "        layer.trainable = True\n",
        "    if layer.name == 'block5_conv3':\n",
        "        layer.trainable = True\n",
        "    if layer.name == 'block5_conv4':\n",
        "        layer.trainable = True\n",
        "    else:\n",
        "        layer.trainable = False"
      ],
      "metadata": {
        "id": "-12Dp0MR3M94"
      },
      "execution_count": null,
      "outputs": []
    },
    {
      "cell_type": "code",
      "source": [
        "from keras import models\n",
        "from keras import layers\n",
        "\n",
        "model = models.Sequential()\n",
        "model.add(conv_base) #Agregamos la base convolucional VGG19 al modelo\n",
        "model.add(layers.GlobalAveragePooling2D()) #Calcula el valor promedio para cada mapa de características, reduciendo las dimensiones espaciales de los mapas de características a un solo valor por canal\n",
        "model.add(layers.Dense(6, activation='softmax')) #Capa de salida con 6 neuronas (tenemos 6 clases), y función de activación softmax porque es clasificación multiclase"
      ],
      "metadata": {
        "id": "21UcydWE3QOF"
      },
      "execution_count": null,
      "outputs": []
    },
    {
      "cell_type": "code",
      "source": [
        "#Resumen del modelo\n",
        "model.summary()"
      ],
      "metadata": {
        "colab": {
          "base_uri": "https://localhost:8080/"
        },
        "id": "U8LevhnM3V4b",
        "outputId": "d03d7aef-af35-448c-cbb2-821bbb1a12f0"
      },
      "execution_count": null,
      "outputs": [
        {
          "output_type": "stream",
          "name": "stdout",
          "text": [
            "Model: \"sequential_3\"\n",
            "_________________________________________________________________\n",
            " Layer (type)                Output Shape              Param #   \n",
            "=================================================================\n",
            " vgg19 (Functional)          (None, 6, 6, 512)         20024384  \n",
            "                                                                 \n",
            " global_average_pooling2d_2  (None, 512)               0         \n",
            "  (GlobalAveragePooling2D)                                       \n",
            "                                                                 \n",
            " dense_2 (Dense)             (None, 6)                 3078      \n",
            "                                                                 \n",
            "=================================================================\n",
            "Total params: 20027462 (76.40 MB)\n",
            "Trainable params: 2362886 (9.01 MB)\n",
            "Non-trainable params: 17664576 (67.39 MB)\n",
            "_________________________________________________________________\n"
          ]
        }
      ]
    },
    {
      "cell_type": "code",
      "source": [
        "# Configuración del modelo para entrenamiento\n",
        "from tensorflow.keras import optimizers\n",
        "from tensorflow.keras.callbacks import LearningRateScheduler\n",
        "\n",
        "\n",
        "# Defino una función de decaimiento para el learning rate\n",
        "def learning_rate_scheduler(epoch, lr):\n",
        "    return lr * 0.95  # Reduce el learning rate en un 5% en cada época\n",
        "\n",
        "# Compilo el modelo con el optimizador Adam y un learning rate inicial\n",
        "#La entropía cruzada categórica ('categorical_crossentropy') es comúnmente utilizada en este tipo de problemas (multiclase)\n",
        "#Monitoreamos la precisión durante el entrenamiento\n",
        "initial_learning_rate = 0.001\n",
        "optimizer = optimizers.Adam(learning_rate=initial_learning_rate)\n",
        "model.compile(optimizer=optimizer, loss='categorical_crossentropy', metrics=['acc'])\n",
        "\n",
        "# Definimos el callback para el learning rate decay\n",
        "lr_decay_callback = LearningRateScheduler(learning_rate_scheduler, verbose=1)\n"
      ],
      "metadata": {
        "id": "_aoAQB5L3YTf"
      },
      "execution_count": null,
      "outputs": []
    },
    {
      "cell_type": "code",
      "source": [
        "# Vamos a entrenar la red neuronal con el generator que configuramos más arriba\n",
        "history = model.fit_generator(train_generator, steps_per_epoch=70, epochs=10, validation_data=validation_generator, validation_steps=15, callbacks=[lr_decay_callback])"
      ],
      "metadata": {
        "colab": {
          "base_uri": "https://localhost:8080/"
        },
        "id": "4Gqf-yXZ3ePe",
        "outputId": "6c485716-bf9f-4bd6-db9b-a0e2b55864e4"
      },
      "execution_count": null,
      "outputs": [
        {
          "output_type": "stream",
          "name": "stderr",
          "text": [
            "<ipython-input-55-a2e9a6338e89>:2: UserWarning: `Model.fit_generator` is deprecated and will be removed in a future version. Please use `Model.fit`, which supports generators.\n",
            "  history = model.fit_generator(train_generator, steps_per_epoch=70, epochs=10, validation_data=validation_generator, validation_steps=15, callbacks=[lr_decay_callback])\n"
          ]
        },
        {
          "output_type": "stream",
          "name": "stdout",
          "text": [
            "\n",
            "Epoch 1: LearningRateScheduler setting learning rate to 0.0009500000451225787.\n",
            "Epoch 1/10\n",
            "70/70 [==============================] - 103s 1s/step - loss: 0.5355 - acc: 0.7946 - val_loss: 0.3582 - val_acc: 0.8710 - lr: 9.5000e-04\n",
            "\n",
            "Epoch 2: LearningRateScheduler setting learning rate to 0.0009025000152178108.\n",
            "Epoch 2/10\n",
            "70/70 [==============================] - 82s 1s/step - loss: 0.3310 - acc: 0.8825 - val_loss: 0.3277 - val_acc: 0.8790 - lr: 9.0250e-04\n",
            "\n",
            "Epoch 3: LearningRateScheduler setting learning rate to 0.0008573750033974647.\n",
            "Epoch 3/10\n",
            "70/70 [==============================] - 81s 1s/step - loss: 0.2856 - acc: 0.8988 - val_loss: 0.3019 - val_acc: 0.8887 - lr: 8.5737e-04\n",
            "\n",
            "Epoch 4: LearningRateScheduler setting learning rate to 0.0008145062311086804.\n",
            "Epoch 4/10\n",
            "70/70 [==============================] - 81s 1s/step - loss: 0.2589 - acc: 0.9083 - val_loss: 0.3190 - val_acc: 0.8777 - lr: 8.1451e-04\n",
            "\n",
            "Epoch 5: LearningRateScheduler setting learning rate to 0.0007737808919046074.\n",
            "Epoch 5/10\n",
            "70/70 [==============================] - 81s 1s/step - loss: 0.2336 - acc: 0.9171 - val_loss: 0.2821 - val_acc: 0.8970 - lr: 7.7378e-04\n",
            "\n",
            "Epoch 6: LearningRateScheduler setting learning rate to 0.000735091819660738.\n",
            "Epoch 6/10\n",
            "70/70 [==============================] - 81s 1s/step - loss: 0.2087 - acc: 0.9267 - val_loss: 0.3047 - val_acc: 0.8813 - lr: 7.3509e-04\n",
            "\n",
            "Epoch 7: LearningRateScheduler setting learning rate to 0.0006983372120885178.\n",
            "Epoch 7/10\n",
            "70/70 [==============================] - 81s 1s/step - loss: 0.1970 - acc: 0.9321 - val_loss: 0.2869 - val_acc: 0.8933 - lr: 6.9834e-04\n",
            "\n",
            "Epoch 8: LearningRateScheduler setting learning rate to 0.0006634203542489559.\n",
            "Epoch 8/10\n",
            "70/70 [==============================] - 81s 1s/step - loss: 0.1787 - acc: 0.9406 - val_loss: 0.2800 - val_acc: 0.8930 - lr: 6.6342e-04\n",
            "\n",
            "Epoch 9: LearningRateScheduler setting learning rate to 0.0006302493420662358.\n",
            "Epoch 9/10\n",
            "70/70 [==============================] - 81s 1s/step - loss: 0.1658 - acc: 0.9448 - val_loss: 0.2932 - val_acc: 0.8913 - lr: 6.3025e-04\n",
            "\n",
            "Epoch 10: LearningRateScheduler setting learning rate to 0.0005987368611386045.\n",
            "Epoch 10/10\n",
            "70/70 [==============================] - 81s 1s/step - loss: 0.1491 - acc: 0.9506 - val_loss: 0.2675 - val_acc: 0.9063 - lr: 5.9874e-04\n"
          ]
        }
      ]
    },
    {
      "cell_type": "markdown",
      "source": [
        "# Vamos a ver las graficas de entrenamiento"
      ],
      "metadata": {
        "id": "SsT1xrb738T-"
      }
    },
    {
      "cell_type": "code",
      "source": [
        "history_dict = history.history"
      ],
      "metadata": {
        "id": "6C1YY4e83ic4"
      },
      "execution_count": null,
      "outputs": []
    },
    {
      "cell_type": "code",
      "source": [
        "#Para obtener las claves disponibles en este diccionario\n",
        "history_dict.keys()"
      ],
      "metadata": {
        "id": "6_rX7lRu3_r9",
        "colab": {
          "base_uri": "https://localhost:8080/"
        },
        "outputId": "1f350bb8-3421-45a9-b113-1326506d9f6a"
      },
      "execution_count": null,
      "outputs": [
        {
          "output_type": "execute_result",
          "data": {
            "text/plain": [
              "dict_keys(['loss', 'acc', 'val_loss', 'val_acc', 'lr'])"
            ]
          },
          "metadata": {},
          "execution_count": 57
        }
      ]
    },
    {
      "cell_type": "code",
      "source": [
        "#Gráfica de la precisión del modelo\n",
        "import matplotlib.pyplot as plt\n",
        "\n",
        "plt.plot(history.history['acc'])\n",
        "plt.plot(history.history['val_acc'])\n",
        "plt.title('model accuracy')\n",
        "plt.ylabel('accuracy') #Eje y (accuracy): Representa la precisión del modelo\n",
        "plt.xlabel('epoch') #Eje x (epoch): Representa las épocas del entrenamiento\n",
        "plt.legend(['train', 'val'], loc='upper left')\n",
        "plt.show()"
      ],
      "metadata": {
        "id": "rHjLIoIv3_oO",
        "colab": {
          "base_uri": "https://localhost:8080/",
          "height": 472
        },
        "outputId": "2c15492f-1e40-4c6d-a7ca-0dcbab607fd2"
      },
      "execution_count": null,
      "outputs": [
        {
          "output_type": "display_data",
          "data": {
            "text/plain": [
              "<Figure size 640x480 with 1 Axes>"
            ],
            "image/png": "[encoded data removed]"
          },
          "metadata": {}
        }
      ]
    },
    {
      "cell_type": "code",
      "source": [
        "#Gráfica de la pérdida del modelo\n",
        "plt.plot(history.history['loss'])\n",
        "plt.plot(history.history['val_loss'])\n",
        "plt.title('model loss')\n",
        "plt.ylabel('loss') #Eje y (loss): Representa la pérdida del modelo\n",
        "plt.xlabel('epoch') #Eje x (epoch): Representa las épocas del entrenamiento\n",
        "plt.legend(['train', 'val'], loc='upper left')\n",
        "plt.show()"
      ],
      "metadata": {
        "id": "4Oj6ReA33_e9",
        "colab": {
          "base_uri": "https://localhost:8080/",
          "height": 472
        },
        "outputId": "80c95431-7570-4ce8-e7f4-7ed42bc3f5fe"
      },
      "execution_count": null,
      "outputs": [
        {
          "output_type": "display_data",
          "data": {
            "text/plain": [
              "<Figure size 640x480 with 1 Axes>"
            ],
            "image/png": "[encoded data removed]"
          },
          "metadata": {}
        }
      ]
    },
    {
      "cell_type": "code",
      "source": [
        "#Para evaluar el rendimiento del modelo en un conjunto de datos que no se ha visto durante el entrenamiento\n",
        "test_generator = test_datagen.flow_from_directory(\n",
        "    '/content/archive-intel/seg_test/seg_test', #Ruta del directorio donde se encuentran las imágenes de prueba\n",
        "    target_size=(200, 200), #Las imágenes se redimensionarán a una altura y ancho de 200 píxeles\n",
        "    batch_size=32, #Número de imágenes en cada lote que se utilizará para la evaluación\n",
        "    class_mode='categorical') #Tarea de clasificación categórica (multiclase)"
      ],
      "metadata": {
        "id": "zsgHAK3r4JQy",
        "colab": {
          "base_uri": "https://localhost:8080/"
        },
        "outputId": "35fe0f90-3183-46e8-fc21-306a438503ce"
      },
      "execution_count": null,
      "outputs": [
        {
          "output_type": "stream",
          "name": "stdout",
          "text": [
            "Found 3000 images belonging to 6 classes.\n"
          ]
        }
      ]
    },
    {
      "cell_type": "code",
      "source": [
        "#Estimar la preción al predecir todo el dataset, es decir, evaluamos el rendimiento final del modelo en datos no vistos\n",
        "scores = model.evaluate(test_generator)\n",
        "print(\"%s: %.2f%%\" % (model.metrics_names[1], scores[1]*100))"
      ],
      "metadata": {
        "id": "3C10qTG34NPO",
        "colab": {
          "base_uri": "https://localhost:8080/"
        },
        "outputId": "2078948c-aa18-418f-b1e4-d403e91c7e8c"
      },
      "execution_count": null,
      "outputs": [
        {
          "output_type": "stream",
          "name": "stdout",
          "text": [
            "94/94 [==============================] - 13s 139ms/step - loss: 0.2675 - acc: 0.9063\n",
            "acc: 90.63%\n"
          ]
        }
      ]
    },
    {
      "cell_type": "code",
      "source": [],
      "metadata": {
        "id": "sc2A3AnWxZag"
      },
      "execution_count": null,
      "outputs": []
    }
  ]
}